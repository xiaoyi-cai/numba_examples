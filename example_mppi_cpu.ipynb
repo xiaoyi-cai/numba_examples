{
 "cells": [
  {
   "cell_type": "markdown",
   "metadata": {},
   "source": [
    "## CPU implementation of MPPI for unicycle dynamics without obstacles."
   ]
  },
  {
   "cell_type": "code",
   "execution_count": 1,
   "metadata": {},
   "outputs": [],
   "source": [
    "%load_ext autoreload\n",
    "%matplotlib inline\n",
    "import os\n",
    "import copy\n",
    "import numpy as np\n",
    "import random\n",
    "import matplotlib.pyplot as plt\n",
    "import time \n",
    "np.random.seed(0)"
   ]
  },
  {
   "cell_type": "markdown",
   "metadata": {},
   "source": [
    "Define and test unicycle dynamics"
   ]
  },
  {
   "cell_type": "code",
   "execution_count": 2,
   "metadata": {},
   "outputs": [
    {
     "data": {
      "image/png": "[encoded data removed]",
      "text/plain": [
       "<Figure size 432x288 with 1 Axes>"
      ]
     },
     "metadata": {
      "needs_background": "light"
     },
     "output_type": "display_data"
    }
   ],
   "source": [
    "\n",
    "def normalize_angle(th):\n",
    "  pi_2 = 2*np.pi\n",
    "  # reduce the angle  \n",
    "  th =  th % pi_2; \n",
    "\n",
    "  # force it to be the positive remainder, so that 0 <= angle < 360  \n",
    "  th = (th + pi_2) % (pi_2);  \n",
    "\n",
    "  # force into the minimum absolute value residue class, so that -180 < angle <= 180  \n",
    "  if th > np.pi:\n",
    "    th -= pi_2\n",
    "\n",
    "  return th\n",
    "\n",
    "class Unicycle:\n",
    "\n",
    "  def __init__(self):\n",
    "    pass\n",
    "\n",
    "  def model(self, x, u, dt):\n",
    "    assert x.shape == (3, )\n",
    "    assert u.shape == (2, )\n",
    "    assert dt >0\n",
    "\n",
    "    v, w = u\n",
    "    # print(u[1], w_scale, w)\n",
    "    x_out = x.copy()\n",
    "    if w < 1e-4:\n",
    "      x_out[0] += dt * v * np.cos(x[2])\n",
    "      x_out[1] += dt * v * np.sin(x[2])\n",
    "      x_out[2] += w*dt\n",
    "\n",
    "    else:\n",
    "      th1 = x[2]\n",
    "      th2 = th1 + w * dt\n",
    "\n",
    "      x_out[2] = th2\n",
    "      x_out[0] += (v/w) * (np.sin(th2)-np.sin(th1))\n",
    "      x_out[1] -= (v/w) * (np.cos(th2)-np.cos(th1))\n",
    "\n",
    "    # Clip the output theta (-pi, pi]\n",
    "    x_out[2] = normalize_angle(x_out[2])\n",
    "    return x_out\n",
    "\n",
    "  def rollout(self, x, u_sequence, dt):\n",
    "    assert x.shape == (3, )\n",
    "    assert len(u_sequence.shape) == 2\n",
    "    T = u_sequence.shape[0]\n",
    "    assert u_sequence.shape[1]==2\n",
    "    assert T>=1\n",
    "    assert dt >0\n",
    "\n",
    "    x_rollout = np.zeros((T+1, 3))\n",
    "    x_rollout[0,:] = x\n",
    "    for i in range(T):\n",
    "        x_rollout[i+1] = self.model(x_rollout[i], u_sequence[i], dt)\n",
    "    return x_rollout\n",
    "\n",
    "\n",
    "# Basic test\n",
    "uni = Unicycle()\n",
    "x0 = np.array([0.5,0.5,0.0], dtype=float)\n",
    "dt=0.2\n",
    "T=10.0\n",
    "u = np.array([1.0,np.pi/10], dtype=float)\n",
    "useq = np.tile(u, (int(T/dt), 1))\n",
    "trajs = uni.rollout(x0, useq, dt)\n",
    "fig,ax = plt.subplots()\n",
    "ax.plot(trajs[:,0], trajs[:,1], \"-o\")\n",
    "ax.set_xlabel(\"x\")\n",
    "ax.set_ylabel(\"y\")\n",
    "ax.set_aspect(\"equal\")\n",
    "ax.set_title(\"nominal unicycle\")\n",
    "plt.show()"
   ]
  },
  {
   "cell_type": "markdown",
   "metadata": {},
   "source": [
    "Define cost functions and MPPI"
   ]
  },
  {
   "cell_type": "code",
   "execution_count": 3,
   "metadata": {},
   "outputs": [],
   "source": [
    "\n",
    "def min_time_cost(xseq, useq, xgoal, dt, v_post_rollout=0.1, tol=0.1, multiplier=10.0):\n",
    "  # When x reaches xgoal\n",
    "  cost = 0\n",
    "  for x in xseq:\n",
    "    goal_reached = False\n",
    "    if np.sqrt((xgoal[0]-x[0])**2 + (xgoal[1]-x[1])**2) < tol:\n",
    "      goal_reached=True\n",
    "      break\n",
    "    else:\n",
    "      cost += dt\n",
    "  if not goal_reached:\n",
    "    t_to_go = np.sqrt((xgoal[0]-xseq[-1,0])**2 + (xgoal[1]-xseq[-1,1])**2)/v_post_rollout\n",
    "    cost += t_to_go\n",
    "      \n",
    "  return multiplier*cost\n",
    "\n",
    "\n",
    "def min_error_cost(xseq, useq, xgoal, dt, multiplier=10.0):\n",
    "  cost = 0\n",
    "  for x in xseq:\n",
    "    cost += np.linalg.norm(x[:2]-xgoal)**2\n",
    "  return multiplier*cost\n",
    "\n",
    "\n",
    "def MPPI(unicycle, dt, x0, xgoal, u_seq0, cost_fn, u_proj_fn, \n",
    "        lambda_weight=1.0, N=100, K=3, M=100, u_std=np.array([1.0, 1.0])):\n",
    "  # K: optimization steps, N: number of rollouts, M: number of samples to approx mean/cvar, T: horizon\n",
    "  timesteps = u_seq0.shape[0]\n",
    "\n",
    "  u_seq_history = [u_seq0]\n",
    "  for k in range(K): # Each optimization step\n",
    "    # print(\"optimization round {}\".format(k))\n",
    "\n",
    "    # print(np.zeros((N, timesteps, 2)).shape, np.tile(u_std, (N, timesteps, 1)).shape)\n",
    "    noise_samples = np.random.normal(np.zeros((N, timesteps, 2)), np.tile(u_std, (N, timesteps, 1)))\n",
    "    rollout_scores = []\n",
    "\n",
    "    cost_times = []\n",
    "\n",
    "    u_cur = u_seq_history[k]\n",
    "    for n in range(N): # Each rollout\n",
    "      # print(\"rollout {}\".format(n))\n",
    "      u = u_cur + noise_samples[n]\n",
    "      u = u_proj_fn(u)\n",
    "\n",
    "      t1 = time.time()\n",
    "      # for m in range(M): # Approximate rollout's cost\n",
    "      xseq = unicycle.rollout(x0, u, dt)\n",
    "      cost = cost_fn(xseq, useq, xgoal, dt)\n",
    "\n",
    "      # Add the missing stage cost\n",
    "      for t in range(timesteps):\n",
    "        cost += lambda_weight* (u_cur[t]*(1/u_std**2)@noise_samples[n, t])\n",
    "      \n",
    "      rollout_scores.append(cost)\n",
    "\n",
    "      cost_times.append(time.time()-t1)\n",
    "\n",
    "    # print(\"{:.3}s over {} u rollouts\".format(np.mean(cost_times), N))\n",
    "\n",
    "    beta = min(rollout_scores)\n",
    "    weights = np.array([np.exp(-1/lambda_weight*(score-beta)) for score in rollout_scores])\n",
    "    weights /= sum(weights)\n",
    "    # print(\"Average rollout score: {}\".format(np.mean(rollout_scores)))\n",
    "\n",
    "    # Update rollouts\n",
    "    u_new = u_cur.copy()\n",
    "    for w, noise in zip(weights, noise_samples):\n",
    "      u_new += w*noise\n",
    "    u_new = u_proj_fn(u_new)\n",
    "    u_seq_history.append(u_new)\n",
    "\n",
    "  return u_seq_history[-1], u_seq_history\n",
    "\n"
   ]
  },
  {
   "cell_type": "markdown",
   "metadata": {},
   "source": [
    "Replanning"
   ]
  },
  {
   "cell_type": "code",
   "execution_count": 4,
   "metadata": {},
   "outputs": [],
   "source": [
    "\n",
    "uni = Unicycle()\n",
    "T = 5 # Planning horizon in seconds\n",
    "dt = 0.2\n",
    "mission_time = 3 # 15 # 10 # 3\n",
    "replan_steps = int(mission_time/dt)\n",
    "u_seq0 = np.zeros((int(T/dt), 2))\n",
    "x0=np.array([0.5, 0.5, -np.pi/4])\n",
    "xgoal= np.array([2, 2])\n",
    "vrange = np.array([0, 3])\n",
    "wrange = np.array([-np.pi, np.pi])\n",
    "\n",
    "def u_proj_fn(useq):\n",
    "  useq_out = useq.copy()\n",
    "  useq_out[:, 0] = np.clip(useq[:, 0], vrange[0], vrange[1])\n",
    "  useq_out[:, 1] = np.clip(useq[:, 1], wrange[0], wrange[1])\n",
    "  return useq_out\n",
    "\n",
    "num_rollouts = int(1e3)\n",
    "\n",
    "default_MPPI_args = dict(\n",
    "  unicycle=uni, \n",
    "  dt=dt, \n",
    "  x0=x0, \n",
    "  xgoal=xgoal, \n",
    "  u_seq0=u_seq0, \n",
    "  # cost_fn=min_time_cost,\n",
    "  cost_fn=min_error_cost, \n",
    "  u_proj_fn=u_proj_fn,\n",
    "  lambda_weight=1.0, \n",
    "  N=num_rollouts, # num rollouts\n",
    "  K=1, # num optimization step\n",
    "  u_std=np.array([1.0, 1.0]) # control noise\n",
    ")\n",
    "\n",
    "\n",
    "xhist = np.zeros((replan_steps+1, 3))\n",
    "xhist[0,:] = x0\n",
    "uhist = np.zeros((replan_steps, 2))"
   ]
  },
  {
   "cell_type": "code",
   "execution_count": 5,
   "metadata": {},
   "outputs": [
    {
     "name": "stdout",
     "output_type": "stream",
     "text": [
      "254 ms ± 615 µs per loop (mean ± std. dev. of 5 runs, 5 loops each)\n"
     ]
    }
   ],
   "source": [
    "# How quickly does it take to solve?\n",
    "MPPI_args = copy.deepcopy(default_MPPI_args)\n",
    "%timeit -n 5 -r 5 MPPI(**MPPI_args)"
   ]
  },
  {
   "cell_type": "code",
   "execution_count": 6,
   "metadata": {},
   "outputs": [
    {
     "data": {
      "image/png": "[encoded data removed]",
      "text/plain": [
       "<Figure size 432x432 with 1 Axes>"
      ]
     },
     "metadata": {
      "needs_background": "light"
     },
     "output_type": "display_data"
    },
    {
     "data": {
      "image/png": "[encoded data removed]",
      "text/plain": [
       "<Figure size 432x216 with 1 Axes>"
      ]
     },
     "metadata": {
      "needs_background": "light"
     },
     "output_type": "display_data"
    }
   ],
   "source": [
    "\n",
    "\n",
    "for i in range(replan_steps):\n",
    "  # Update mppi arguments\n",
    "  MPPI_args = copy.deepcopy(default_MPPI_args)\n",
    "  MPPI_args['x0'] = xhist[i]\n",
    "  \n",
    "  # Plan and move\n",
    "  useq_opt, useq_history = MPPI(**MPPI_args)\n",
    "  xhist[i+1] = uni.model(xhist[i], useq_opt[0], dt)\n",
    "  uhist[i] = useq_opt[0]\n",
    "\n",
    "# Simulate future traj at the end of planning horizon\n",
    "future_traj = uni.rollout(xhist[-1], useq_opt, dt)\n",
    "\n",
    "\n",
    "fig,ax = plt.subplots(figsize=(6, 6))\n",
    "ax.plot(xhist[0,0], xhist[0,1], \"ro\", markersize=12, label=\"Start\")\n",
    "ax.plot(xhist[:,0], xhist[:,1], \"ko-\", markersize=4, label=\"Trajectory\")\n",
    "ax.plot(future_traj[:,0], future_traj[:,1], \"bo-\", markersize=4, label=\"Future Trajectory\")\n",
    "ax.plot(xgoal[0], xgoal[1], \"rx\", markersize=12, label=\"Goal\")\n",
    "ax.set_xlabel(\"X\")\n",
    "ax.set_ylabel(\"Y\")\n",
    "ax.set_aspect(\"equal\")\n",
    "ax.set_title(\"state traj\")\n",
    "ax.legend()\n",
    "\n",
    "fig,ax = plt.subplots(figsize=(6, 3))\n",
    "ax.plot(np.linspace(0, mission_time, int(mission_time/dt), endpoint=False), uhist[:,0], label=\"v executed\")\n",
    "ax.plot(np.linspace(0, mission_time, int(mission_time/dt), endpoint=False), uhist[:,1], label=\"w executed\")\n",
    "ax.set_xlabel(\"t\")\n",
    "ax.set_title(\"control\")\n",
    "ax.legend()\n",
    "\n",
    "plt.show()"
   ]
  },
  {
   "cell_type": "code",
   "execution_count": null,
   "metadata": {},
   "outputs": [],
   "source": []
  }
 ],
 "metadata": {
  "kernelspec": {
   "display_name": "Python 3.8.10 64-bit",
   "language": "python",
   "name": "python3"
  },
  "language_info": {
   "codemirror_mode": {
    "name": "ipython",
    "version": 3
   },
   "file_extension": ".py",
   "mimetype": "text/x-python",
   "name": "python",
   "nbconvert_exporter": "python",
   "pygments_lexer": "ipython3",
   "version": "3.8.10"
  },
  "orig_nbformat": 4,
  "vscode": {
   "interpreter": {
    "hash": "916dbcbb3f70747c44a77c7bcd40155683ae19c65e1c03b4aa3499c5328201f1"
   }
  }
 },
 "nbformat": 4,
 "nbformat_minor": 2
}
