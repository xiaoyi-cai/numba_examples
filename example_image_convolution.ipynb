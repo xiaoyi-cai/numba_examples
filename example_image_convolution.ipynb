{
 "cells": [
  {
   "cell_type": "markdown",
   "metadata": {},
   "source": [
    "## Example of image blurring\n",
    "Following https://www.vincent-lunot.com/post/an-introduction-to-cuda-in-python-part-3/"
   ]
  },
  {
   "cell_type": "code",
   "execution_count": null,
   "metadata": {},
   "outputs": [],
   "source": [
    "!pip3 install scikit-image numba\n",
    "\n",
    "import numba \n",
    "from numba import cuda\n",
    "import numpy as np\n",
    "gpu = cuda.get_current_device()\n",
    "print(\"name = %s\" % gpu.name)\n",
    "print(\"maxThreadsPerBlock = %s\" % str(gpu.MAX_THREADS_PER_BLOCK))\n",
    "print(\"maxBlockDimX = %s\" % str(gpu.MAX_BLOCK_DIM_X))\n",
    "print(\"maxBlockDimY = %s\" % str(gpu.MAX_BLOCK_DIM_Y))\n",
    "print(\"maxBlockDimZ = %s\" % str(gpu.MAX_BLOCK_DIM_Z))\n",
    "print(\"maxGridDimX = %s\" % str(gpu.MAX_GRID_DIM_X))\n",
    "print(\"maxGridDimY = %s\" % str(gpu.MAX_GRID_DIM_Y))\n",
    "print(\"maxGridDimZ = %s\" % str(gpu.MAX_GRID_DIM_Z))\n",
    "print(\"maxSharedMemoryPerBlock = %s\" % str(gpu.MAX_SHARED_MEMORY_PER_BLOCK))"
   ]
  },
  {
   "cell_type": "code",
   "execution_count": null,
   "metadata": {},
   "outputs": [],
   "source": [
    "@cuda.jit\n",
    "def convolve(result, mask, image):\n",
    "    # expects a 2D grid and 2D blocks,\n",
    "    # a mask with odd numbers of rows and columns, (-1-) \n",
    "    # a grayscale image\n",
    "    \n",
    "    # (-2-) 2D coordinates of the current thread:\n",
    "    i, j = cuda.grid(2) \n",
    "    \n",
    "    # (-3-) if the thread coordinates are outside of the image, we ignore the thread:\n",
    "    image_rows, image_cols = image.shape\n",
    "    if (i >= image_rows) or (j >= image_cols): \n",
    "        return\n",
    "    \n",
    "    # To compute the result at coordinates (i, j), we need to use delta_rows rows of the image \n",
    "    # before and after the i_th row, \n",
    "    # as well as delta_cols columns of the image before and after the j_th column:\n",
    "    delta_rows = mask.shape[0] // 2 \n",
    "    delta_cols = mask.shape[1] // 2\n",
    "    \n",
    "    # The result at coordinates (i, j) is equal to \n",
    "    # sum_{k, l} mask[k, l] * image[i - k + delta_rows, j - l + delta_cols]\n",
    "    # with k and l going through the whole mask array:\n",
    "    \n",
    "    # s = 0\n",
    "    s = numba.float32(0) # Otherwise will default to double precision and use more memory.\n",
    "                         # Good practice to assign a type at initialization\n",
    "\n",
    "    for k in range(mask.shape[0]):\n",
    "        for l in range(mask.shape[1]):\n",
    "            i_k = i - k + delta_rows\n",
    "            j_l = j - l + delta_cols\n",
    "            # (-4-) Check if (i_k, j_k) coordinates are inside the image: \n",
    "            if (i_k >= 0) and (i_k < image_rows) and (j_l >= 0) and (j_l < image_cols):  \n",
    "                s += mask[k, l] * image[i_k, j_l]\n",
    "    result[i, j] = s"
   ]
  },
  {
   "cell_type": "code",
   "execution_count": null,
   "metadata": {},
   "outputs": [],
   "source": [
    "import skimage.data\n",
    "from skimage.color import rgb2gray\n",
    "\n",
    "%matplotlib inline\n",
    "import matplotlib.pyplot as plt\n",
    "\n",
    "full_image = rgb2gray(skimage.data.coffee()).astype(np.float32) / 255\n",
    "image = full_image[150:350, 200:400].copy() # We don't want a view but an array and therefore use copy()\n",
    "plt.figure()\n",
    "plt.imshow(image, cmap='gray')\n",
    "plt.title(\"Part of the image we use:\")\n",
    "plt.show()"
   ]
  },
  {
   "cell_type": "code",
   "execution_count": null,
   "metadata": {},
   "outputs": [],
   "source": [
    "# We preallocate the result array:\n",
    "result = np.empty_like(image)\n",
    "\n",
    "# We choose a random mask:\n",
    "mask = np.random.rand(13, 13).astype(np.float32) \n",
    "mask /= mask.sum()  # We normalize the mask\n",
    "print('Mask shape:', mask.shape)\n",
    "print('Mask first (3, 3) elements:\\n', mask[:3, :3])\n",
    "\n",
    "# We use blocks of 32x32 pixels:\n",
    "blockdim = (32, 32)\n",
    "print('Blocks dimensions:', blockdim)\n",
    "\n",
    "# We compute grid dimensions big enough to cover the whole image:\n",
    "griddim = (image.shape[0] // blockdim[0] + 1, image.shape[1] // blockdim[1] + 1)\n",
    "print('Grid dimensions:', griddim)\n",
    "\n",
    "# We apply our convolution to our image:\n",
    "convolve[griddim, blockdim](result, mask, image)\n",
    "\n",
    "# We plot the result:\n",
    "fig, axes = plt.subplots(ncols=2)\n",
    "axes[0].imshow(image, cmap='gray')\n",
    "axes[0].set_title(\"Before convolution:\")\n",
    "axes[1].imshow(result, cmap='gray')\n",
    "axes[1].set_title(\"After convolution:\")\n",
    "plt.show()"
   ]
  },
  {
   "cell_type": "markdown",
   "metadata": {},
   "source": [
    "## How fast is the scipy convolution?"
   ]
  },
  {
   "cell_type": "code",
   "execution_count": null,
   "metadata": {},
   "outputs": [],
   "source": [
    "from scipy.ndimage.filters import convolve as scipy_convolve\n",
    "scipy_result = np.empty_like(image)\n",
    "%timeit -r 10 -n 10 scipy_convolve(image, mask, output=scipy_result, mode='constant', cval=0.0, origin=0)"
   ]
  },
  {
   "cell_type": "markdown",
   "metadata": {},
   "source": [
    "## How fast is the Numba implementation (including memory copies)"
   ]
  },
  {
   "cell_type": "code",
   "execution_count": null,
   "metadata": {},
   "outputs": [],
   "source": [
    "%timeit -r 10 -n 10 convolve[griddim, blockdim](result, mask, image)"
   ]
  },
  {
   "cell_type": "markdown",
   "metadata": {},
   "source": [
    "## How fast is the Numba implementation (without memory copies)"
   ]
  },
  {
   "cell_type": "code",
   "execution_count": null,
   "metadata": {},
   "outputs": [],
   "source": [
    "d_image = cuda.to_device(image)\n",
    "d_mask = cuda.to_device(mask)\n",
    "d_result = cuda.to_device(result)\n",
    "%timeit -r 10 -n 10 convolve[griddim, blockdim](d_result, d_mask, d_image)"
   ]
  }
 ],
 "metadata": {
  "kernelspec": {
   "display_name": "Python 3.8.10 ('venv': venv)",
   "language": "python",
   "name": "python3"
  },
  "language_info": {
   "codemirror_mode": {
    "name": "ipython",
    "version": 3
   },
   "file_extension": ".py",
   "mimetype": "text/x-python",
   "name": "python",
   "nbconvert_exporter": "python",
   "pygments_lexer": "ipython3",
   "version": "3.8.10"
  },
  "orig_nbformat": 4,
  "vscode": {
   "interpreter": {
    "hash": "1f74b981ce186e523e14680e623d64ffc3734a44ecf348aec364ee341f346f80"
   }
  }
 },
 "nbformat": 4,
 "nbformat_minor": 2
}
